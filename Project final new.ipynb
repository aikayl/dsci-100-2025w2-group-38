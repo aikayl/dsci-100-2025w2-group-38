{
 "cells": [
  {
   "cell_type": "markdown",
   "id": "7e94d27b-1bcd-40da-90b5-10b2202778d5",
   "metadata": {},
   "source": [
    "### Description\n",
    "This report investigates how a player's age and hours can be used to determine if they signed up for the game's newsletter. The data for players.csv was collected by a computer science research group at UBC, guided by Frank Wood, who gathered information on video game play patterns of a MineCraft server they have set up. As players play the game, their actions are tracked. The research group made sure to use adequate resources, such as server hardware and software licensing, to manage the volume of players they gathered. As the raw data in players.csv is not in a tidy format, this report focuses on cleaning the dataset, generating summary statistics, and creating visualizations to analyze trends. Through these steps, the report provides insights that help answer the classification question.\n",
    "\n",
    "### Question: \n",
    "Can a player’s age and hours played predict whether they subscribe to the game’s newsletter?\n",
    "\n",
    "### Summary of Variable names\n",
    "The players.csv dataset has 196 observations with 7 variables, each variable representing information about that player:\n",
    "\n",
    "| Variable     | Type              | Description                                                     |\n",
    "| :----------- | :---------------- | :-------------------------------------------------------------- |\n",
    "| experience   | Categorical (chr) | Player's skill level (Veteran, Pro, Amateur, Regular, Beginner) |\n",
    "| subscribe    | Boolean (lgl)     | Whether the player has subscribed (TRUE/FALSE)                  |\n",
    "| hashedEmail  | Categorical (chr) | Hashed email address for privacy                                |\n",
    "| played_hours | Numeric (dbl)     | Number of hours the player has played                           |\n",
    "| name         | Categorical (chr) | Player's first name                                             |\n",
    "| gender       | Categorical (chr) | Gender of the player (Male, Female, Other, Prefer not to say)   |\n",
    "| Age          | Numeric (dbl)     | Player’s age                                                    |\n",
    "\n",
    "### Issues\n",
    "| Issue | Description of Issue | Solution |\n",
    "| :------| :-------------------- | :-------- |\n",
    "| Duplicate Entries | Some participants have multiple records | Ensure these are distinct play sessions and not duplicates. Group data by hashedEmail to verify if multiple sessions correspond to the same user or if it's a data entry error\t|\n",
    "| Missing Data | Missing values in key columns like start_time, end_time, experience, subscribe, played_hours | Ignore missing values drop_na(), Fill in missing values using mean imputation step_impute_mean(all_predictors()) |\n",
    "| Time Format Consistency | The start_time and end_time columns use a string format | Convert these strings to a proper datetime format |\n",
    "| Age Distribution | The age range is wide and not evenly distributed | Create age categories (e.g., 0-18, 19-35, 36-50, etc.) to simplify analysis|\n",
    "| Gender Representation | Some entries for gender are non-binary or unknown | Handle these cases by either grouping non-binary responses into a category or excluding them |\n",
    "| Mutiple entries | Ensure there are no issues like multiple hashed emails for the same user. This could indicate duplicates or incorrectly handled data during hashing |  Verify that each hashedEmail corresponds to a unique user |\n",
    "| Inconsistent Session Lengths | The played_hours column can have values that seem unusually short, suggesting that some players may have logged incomplete sessions | Set thresholds for what constitutes a valid session duration. Filter out sessions that fall below the threshold |\n",
    "| Correlation Between Variables | Columns like experience and played_hours might have a strong relationship | Use correlation metrics or scatter plots to visualize relationships |\n",
    "\n",
    "\n"
   ]
  },
  {
   "cell_type": "code",
   "execution_count": null,
   "id": "f7c1a76a-721e-493d-abb6-18edb497db2a",
   "metadata": {},
   "outputs": [],
   "source": []
  }
 ],
 "metadata": {
  "kernelspec": {
   "display_name": "R",
   "language": "R",
   "name": "ir"
  },
  "language_info": {
   "codemirror_mode": "r",
   "file_extension": ".r",
   "mimetype": "text/x-r-source",
   "name": "R",
   "pygments_lexer": "r",
   "version": "4.3.3"
  }
 },
 "nbformat": 4,
 "nbformat_minor": 5
}
