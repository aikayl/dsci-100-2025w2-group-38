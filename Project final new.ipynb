{
 "cells": [
  {
   "cell_type": "markdown",
   "id": "7e94d27b-1bcd-40da-90b5-10b2202778d5",
   "metadata": {},
   "source": [
    "### How was the data collected?\n",
    "The data for sessions.csv and players.csv was collected by a computer science research group at UBC, guided by Frank Wood, who gathered information on video game play patterns of a MineCraft server they have set up. As players play the game, their actions are tracked. The research group made sure to use adequate resources, such as server hardware and software licensing, to manage the volume of players they gathered.\n",
    "\n",
    "### Summary of Variable names\n",
    "|Number of Variable | Variable Name| Type of Variable | Meaning of The Variable |\n",
    "| ------------------| ------------ | ---------------- | ----------------------- |\n",
    "|1                  | hashedEmail  | Character (chr)  | A unique identifier for each player|\n",
    "|2                  | experience   | Character (chr)  | Player's level of experience |\n",
    "|3                  | subscribe    | Logical (lgl)\t  | TRUE/FALSE indicating whether the player is subscribed to a game-related newsletter\t|\n",
    "|4                  | played_hours | Numeric (dbl)    | Total number of hours the player has spent playing the game for the current session |\n",
    "|5                  | name         | Character (chr)  | The name of the player|\n",
    "|6                 | gender       | Character (chr)  | The gender of the player\t|\n",
    "|7                 | Age          | Numeric (dbl)    | The age of the player\t|\n",
    "\n",
    "\n",
    "### Issues\n",
    "| Issue | Description of Issue | Solution |\n",
    "| ------| -------------------- | -------- |\n",
    "| Duplicate Entries | Some participants have multiple records | Ensure these are distinct play sessions and not duplicates. Group data by hashedEmail to verify if multiple sessions correspond to the same user or if it's a data entry error\t|\n",
    "| Missing Data | Missing values in key columns like start_time, end_time, experience, subscribe, played_hours | Ignore missing values drop_na(), Fill in missing values using mean imputation step_impute_mean(all_predictors()) |\n",
    "| Time Format Consistency | The start_time and end_time columns use a string format | Convert these strings to a proper datetime format |\n",
    "| Age Distribution | The age range is wide and not evenly distributed | Create age categories (e.g., 0-18, 19-35, 36-50, etc.) to simplify analysis|\n",
    "| Gender Representation | Some entries for gender are non-binary or unknown | Handle these cases by either grouping non-binary responses into a category or excluding them |\n",
    "| Mutiple entries | Ensure there are no issues like multiple hashed emails for the same user. This could indicate duplicates or incorrectly handled data during hashing |  Verify that each hashedEmail corresponds to a unique user |\n",
    "| Inconsistent Session Lengths | The played_hours column can have values that seem unusually short, suggesting that some players may have logged incomplete sessions | Set thresholds for what constitutes a valid session duration. Filter out sessions that fall below the threshold |\n",
    "| Correlation Between Variables | Columns like experience and played_hours might have a strong relationship | Use correlation metrics or scatter plots to visualize relationships |\n",
    "\n",
    "\n"
   ]
  },
  {
   "cell_type": "code",
   "execution_count": null,
   "id": "67ddc6b1-8a09-40e5-b91c-34b2ff0661ec",
   "metadata": {},
   "outputs": [],
   "source": []
  }
 ],
 "metadata": {
  "kernelspec": {
   "display_name": "R",
   "language": "R",
   "name": "ir"
  },
  "language_info": {
   "codemirror_mode": "r",
   "file_extension": ".r",
   "mimetype": "text/x-r-source",
   "name": "R",
   "pygments_lexer": "r",
   "version": "4.3.3"
  }
 },
 "nbformat": 4,
 "nbformat_minor": 5
}
