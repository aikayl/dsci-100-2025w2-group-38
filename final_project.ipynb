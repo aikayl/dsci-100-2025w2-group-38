{
 "cells": [
  {
   "cell_type": "code",
   "execution_count": null,
   "id": "92af7e5b-010f-43a7-b1c2-7b7d729cd4c3",
   "metadata": {},
   "outputs": [],
   "source": [
    "Hi"
   ]
  }
 ],
 "metadata": {
  "kernelspec": {
   "display_name": "R",
   "language": "R",
   "name": "ir"
  },
  "language_info": {
   "codemirror_mode": "r",
   "file_extension": ".r",
   "mimetype": "text/x-r-source",
   "name": "R",
   "pygments_lexer": "r",
   "version": "4.3.3"
  }
 },
 "nbformat": 4,
 "nbformat_minor": 5
}
