{
 "cells": [
  {
   "cell_type": "markdown",
   "id": "71497a8c-0a19-4c48-9e71-2040674bf607",
   "metadata": {},
   "source": [
    "# Introduction"
   ]
  },
  {
   "cell_type": "markdown",
   "id": "a8ae24cc-1964-4ff8-b542-e691b059d3c2",
   "metadata": {},
   "source": [
    "### Summary of Variable names\n",
    "|Number of Variable | Variable Name| Type of Variable | Meaning of The Variable |\n",
    "| ------------------| ------------ | ---------------- | ----------------------- |\n",
    "|1                  | hashedEmail  | Character (chr)  | A unique identifier for each player|\n",
    "|2                  | start_time   | Character (chr)  | The date and time when the player's session starts (in dd/mm/yyyy hh:mm format)\t|\n",
    "|3                  | end_time     | Character (chr)  | The date and time when the player's session ends (in dd/mm/yyyy hh:mm format)\t|\n",
    "|4                  | original_start_time | Numeric (dbl)| A timestamp representing the original start time of the session in Unix timestamp (number of seconds since 01/01/1970) |\n",
    "|5                  | original_end_time | Numeric (dbl)| A timestamp representing the original end time of the session in Unix timestamp (number of seconds since 01/01/1970)\t|\n",
    "|6                  | experience   | Character (chr)  | Player's level of experience |\n",
    "|7                  | subscribe    | Logical (lgl)\t  | TRUE/FALSE indicating whether the player is subscribed to a game-related newsletter\t|\n",
    "|8                  | played_hours | Numeric (dbl)    | Total number of hours the player has spent playing the game for the current session |\n",
    "|9                  | name         | Character (chr)  | The name of the player|\n",
    "|10                 | gender       | Character (chr)  | The gender of the player\t|\n",
    "|11                 | Age          | Numeric (dbl)    | The age of the player\t|\n",
    "\n",
    "\n",
    "### Issues\n",
    "| Issue | Description of Issue | Solution |\n",
    "| ------| -------------------- | -------- |\n",
    "| Duplicate Entries | Some participants have multiple records | Ensure these are distinct play sessions and not duplicates. Group data by hashedEmail to verify if multiple sessions correspond to the same user or if it's a data entry error\t|\n",
    "| Missing Data | Missing values in key columns like start_time, end_time, experience, subscribe, played_hours | Ignore missing values drop_na(), Fill in missing values using mean imputation step_impute_mean(all_predictors()) |\n",
    "| Time Format Consistency | The start_time and end_time columns use a string format | Convert these strings to a proper datetime format |\n",
    "| Age Distribution | The age range is wide and not evenly distributed | Create age categories (e.g., 0-18, 19-35, 36-50, etc.) to simplify analysis|\n",
    "| Gender Representation | Some entries for gender are non-binary or unknown | Handle these cases by either grouping non-binary responses into a category or excluding them |\n",
    "| Mutiple entries | Ensure there are no issues like multiple hashed emails for the same user. This could indicate duplicates or incorrectly handled data during hashing |  Verify that each hashedEmail corresponds to a unique user |\n",
    "| Inconsistent Session Lengths | The played_hours column can have values that seem unusually short, suggesting that some players may have logged incomplete sessions | Set thresholds for what constitutes a valid session duration. Filter out sessions that fall below the threshold |\n",
    "| Correlation Between Variables | Columns like experience and played_hours might have a strong relationship | Use correlation metrics or scatter plots to visualize relationships |"
   ]
  },
  {
   "cell_type": "code",
   "execution_count": null,
   "id": "a0163f95-e166-4538-b05c-3aaa86e8868a",
   "metadata": {},
   "outputs": [],
   "source": []
  }
 ],
 "metadata": {
  "kernelspec": {
   "display_name": "R",
   "language": "R",
   "name": "ir"
  },
  "language_info": {
   "codemirror_mode": "r",
   "file_extension": ".r",
   "mimetype": "text/x-r-source",
   "name": "R",
   "pygments_lexer": "r",
   "version": "4.3.3"
  }
 },
 "nbformat": 4,
 "nbformat_minor": 5
}
