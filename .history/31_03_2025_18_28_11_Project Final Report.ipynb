{
 "cells": [
  {
   "cell_type": "markdown",
   "id": "71497a8c-0a19-4c48-9e71-2040674bf607",
   "metadata": {},
   "source": [
    "# Introduction"
   ]
  },
  {
   "cell_type": "code",
   "execution_count": null,
   "id": "1faf60ff-035d-490d-a427-e1e5409e08f3",
   "metadata": {},
   "outputs": [],
   "source": [
    "library(tidyverse)\n",
    "library(tidymodels)\n",
    "library(lubridate)\n",
    "library(dbplyr)\n",
    "library(ggplot2)\n",
    "\n",
    "players<- read_csv(\"players.csv\")\n",
    "head(players)"
   ]
  },
  {
   "cell_type": "markdown",
   "id": "a8ae24cc-1964-4ff8-b542-e691b059d3c2",
   "metadata": {},
   "source": [
    "### Summary of Variable names\n",
    "|Number of Variable | Variable Name| Type of Variable | Meaning of The Variable |\n",
    "| ------------------| ------------ | ---------------- | ----------------------- |\n",
    "|1                  | hashedEmail  | Character (chr)  | A unique identifier for each player|\n",
    "|2                  | experience   | Character (chr)  | Player's level of experience |\n",
    "|3                  | subscribe    | Logical (lgl)\t  | TRUE/FALSE indicating whether the player is subscribed to a game-related newsletter\t|\n",
    "|4                  | played_hours | Numeric (dbl)    | Total number of hours the player has spent playing the game for the current session |\n",
    "|5                  | name         | Character (chr)  | The name of the player|\n",
    "|6                 | gender       | Character (chr)  | The gender of the player\t|\n",
    "|7                 | Age          | Numeric (dbl)    | The age of the player\t|\n",
    "\n",
    "\n",
    "### Issues\n",
    "| Issue | Description of Issue | Solution |\n",
    "| ------| -------------------- | -------- |\n",
    "| Duplicate Entries | Some participants have multiple records | Ensure these are distinct play sessions and not duplicates. Group data by hashedEmail to verify if multiple sessions correspond to the same user or if it's a data entry error\t|\n",
    "| Missing Data | Missing values in key columns like start_time, end_time, experience, subscribe, played_hours | Ignore missing values drop_na(), Fill in missing values using mean imputation step_impute_mean(all_predictors()) |\n",
    "| Time Format Consistency | The start_time and end_time columns use a string format | Convert these strings to a proper datetime format |\n",
    "| Age Distribution | The age range is wide and not evenly distributed | Create age categories (e.g., 0-18, 19-35, 36-50, etc.) to simplify analysis|\n",
    "| Gender Representation | Some entries for gender are non-binary or unknown | Handle these cases by either grouping non-binary responses into a category or excluding them |\n",
    "| Mutiple entries | Ensure there are no issues like multiple hashed emails for the same user. This could indicate duplicates or incorrectly handled data during hashing |  Verify that each hashedEmail corresponds to a unique user |\n",
    "| Inconsistent Session Lengths | The played_hours column can have values that seem unusually short, suggesting that some players may have logged incomplete sessions | Set thresholds for what constitutes a valid session duration. Filter out sessions that fall below the threshold |\n",
    "| Correlation Between Variables | Columns like experience and played_hours might have a strong relationship | Use correlation metrics or scatter plots to visualize relationships |"
   ]
  },
  {
   "cell_type": "code",
   "execution_count": null,
   "id": "a0823703-db07-4fcd-9250-5c9f51c8fef6",
   "metadata": {},
   "outputs": [],
   "source": [
    "players_recode <- players |>\n",
    "  mutate(subscribe = as_factor(subscribe)) |>\n",
    "  mutate(subscribe = fct_recode(subscribe, \"Subscribed\" = \"TRUE\", \"Not subscribed\" = \"FALSE\"))\n",
    "players_recode\n",
    "\n",
    "players_mean <- players |>\n",
    "select(played_hours, Age) |>\n",
    "map_df(mean, na.rm = TRUE)\n",
    "\n"
   ]
  },
  {
   "cell_type": "code",
   "execution_count": null,
   "id": "1959a827-c152-4ac9-b161-cc054a9f1fb4",
   "metadata": {},
   "outputs": [],
   "source": [
    "options(repr.plot.width=12, repr.plot.height=7)\n",
    "players_plot <- players_recode |> \n",
    "ggplot(aes(x = played_hours, y = Age, color = subscribe)) + \n",
    "geom_point() +\n",
    "labs(x = \"Time spent playing (hours)\", y = \"Age of player (years)\", title = \"Time played and Age (unstandardized)\") + \n",
    "theme(text = element_text(size = 15))\n",
    "players_plot"
   ]
  },
  {
   "cell_type": "code",
   "execution_count": null,
   "id": "db116efd-47f2-408a-b928-5c0cbea0aac4",
   "metadata": {},
   "outputs": [],
   "source": [
    "players_histogram <- ggplot(players_recode, aes(x = played_hours)) + \n",
    "geom_histogram(binwidth = 0.5) +\n",
    "labs(x = \"Time spent playing (hours)\", y = \"Count\", title = \"Distribution of playing time\") + \n",
    "theme(text = element_text(size = 15))\n",
    "       \n",
    "players_histogram + scale_x_continuous(limits = c(0, 50)) + scale_y_continuous(limits = c(0, 25))"
   ]
  },
  {
   "cell_type": "code",
   "execution_count": null,
   "id": "b3dc031e-0599-4ce9-b3d6-dabfc07d0469",
   "metadata": {},
   "outputs": [],
   "source": [
    "#Classification algorithm:"
   ]
  },
  {
   "cell_type": "code",
   "execution_count": null,
   "id": "cad366cd-13f6-497d-993f-cf12c7dd5a63",
   "metadata": {},
   "outputs": [],
   "source": [
    "set.seed(1234) \n",
    "\n",
    "options(repr.plot.height = 5, repr.plot.width = 6)\n",
    "\n",
    "data_recipe <- recipe(subscriber ~ Age + played_hours, data = training_set)\n",
    "\n",
    "knn_spec <- nearest_neighbor(weight_func = \"rectangular\", neighbors = tune()) |>\n",
    "    set_engine(\"kknn\") |>\n",
    "    set_mode(\"classification\")\n",
    "\n",
    "data_vfold <- vfold_cv(training_set, v = 5, strata = y)\n",
    "\n",
    "kvalues_tibble <- tibble(neighbors = c(2, 3, 4, 5, 6))\n",
    "\n",
    "knn_results <- workflow() |> \n",
    "    add_recipe(data_recipe) |>\n",
    "    add_model(knn_spec) |>\n",
    "    tune_grid(resamples = data_vfold, grid = kvalues_tibble)\n",
    "\n",
    "data_metrics <- collect_metrics(knn_results)\n",
    "\n",
    "accuracies <- data_metrics |>\n",
    "filter(.metric == \"accuracy\") |>\n",
    "mutate(neighbors = as.numeric(neighbors), mean = as.numeric(mean)) |>\n",
    "drop_na()\n",
    "\n",
    "\n",
    "cross_val_plot <- accuracies |>\n",
    "ggplot(aes(x = neighbors, y = mean)) + \n",
    "geom_point() +\n",
    "geom_line() + \n",
    "labs(x = \"K number of neighbors\", y = \"Accuracy of Model Estimate\") + \n",
    "theme(text = element_text(size = 12))\n",
    "\n",
    "cross_val_plot"
   ]
  }
 ],
 "metadata": {
  "kernelspec": {
   "display_name": "R",
   "language": "R",
   "name": "ir"
  },
  "language_info": {
   "codemirror_mode": "r",
   "file_extension": ".r",
   "mimetype": "text/x-r-source",
   "name": "R",
   "pygments_lexer": "r",
   "version": "4.3.3"
  }
 },
 "nbformat": 4,
 "nbformat_minor": 5
}
