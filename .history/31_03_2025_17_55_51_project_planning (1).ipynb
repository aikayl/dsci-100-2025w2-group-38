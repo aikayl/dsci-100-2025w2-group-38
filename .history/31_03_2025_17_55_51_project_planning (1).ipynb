{
 "cells": [
  {
   "cell_type": "markdown",
   "id": "761ef081-dd7f-474a-812d-f7149a006969",
   "metadata": {},
   "source": [
    "Benjamin Hobson 94708385"
   ]
  },
  {
   "cell_type": "markdown",
   "id": "83c30a10-689b-4898-bdf0-660b77cd05d5",
   "metadata": {},
   "source": [
    "(1) Data Description:\n",
    "\n",
    "players.csv --> The players.csv data set has 196 observations, each recording a player with some basic information about that player. There are 7 columns, each representing a different variable. \n",
    "- experience: this variable is of type \"chr\" and it represents a categorical variable. It sorts players into different groups, like beginniner, amateur, normal, pro, and veteran.\n",
    "- subscribe: this is a variable of type \"lgl\" which means it either is true or false. It records whether or not the player is subscribed to the game-related newsletter or not. This could be an interesting variable to observe and perhaps use as a class variable to predict, as it has two categories of either being true or false (perhaps variables like Age and experience can be used to predict the likelihood of someone being subscribed or not).\n",
    "- hashedEmail: this variable is of type \"chr\" and provides the player's email (hashed so it is anonymous).\n",
    "- player_hours: this variable is of type \"dbl\" and represents how many hours the player has played.\n",
    "- name: \"char\" variable that records the name of the player.\n",
    "- gender: categorical variable of type \"chr\" that defines gender. More than just male/female, there are a number of different options for everyone.\n",
    "- age: records age in years, is of type \"dbl\".\n",
    "Notes on the data: There are some missing values in the Age column, meaning I need to ensure I use na.rm = TRUE when I perform summary statistics on that variable. Besides that, this data is pretty tidy and unproblematic for manipulating it.\n",
    "\n",
    "sessions.csv --> this dataframe has 1535 observations/rows and it has 5 variables/columns. From what I can reasonably infer, here is a basic description of each column: \n",
    "- hashedEmail: this is an identifier essentially, it's of type \"chr\" and it is an encrypted version of the users email who recorded the session.\n",
    "- start_time: this is a varible of type \"chr\" this gives the exact minute (with the day, year and month attached) of when a player started a session on the server.\n",
    "- end_time: also a variable of type \"chr\". Similar to start_time this gives the exact minute (with the day, year and month attached) of when a player ended a session on the server.\n",
    "- original_start_time and original_end_time (both of type dbl): it seems like these columns display the time since another certain time (some year) in seconds or some small increment. That would explain why the values are so large. I think it is worth seeing the values printed out, to determine their usability in comparison to the other two time variables. \n",
    "\n",
    "Notes on the data: One idea that popped into my head after looking through the data couple times is that it might be useful to use mutate to create a new column using the data from the variables start_time and end_time to get the \"play_time\" column that subtracts the two times to just quickly see how long the player played for. It would make summary statistics on play time much simpler. This would require some work however to turn the \"chr\" variable into a date format. \n",
    "\n"
   ]
  },
  {
   "cell_type": "markdown",
   "id": "25d62de3-92cf-4963-a491-27c975cea28b",
   "metadata": {},
   "source": [
    "(2) Questions: \n",
    "My question of interest: using the players.csv data set, can a player’s age and hours played predict whether they subscribe to the game’s newsletter? This question is interesting to me because if I was trying to boost the amount of subscribers to the newsletter, I would want to know which type of players to target in my advertising efforts. For instance, if a younger age was more receptive to joining the newsletter, I would be more inclined to use social media to increase subscribership. To wrangle this data I will need to account for missing values in the Age column and I will need to standardize my data before I do any predictions to avoid having age or playing time being overpowering in the prediction. It might also be useful to refactor the lgl subscriber variable into a factor variable (as the thing we are trying to predict). This way, after making sure those are taken care of we can use K nearest neighbors voting to attempt to accurately predict whether someone is a subscriber or not. \n",
    "\n",
    "\n",
    "\n",
    "\n"
   ]
  },
  {
   "cell_type": "markdown",
   "id": "ef50734b-ac42-4c84-a213-7f048602362e",
   "metadata": {},
   "source": [
    "(3) Exploratory data analysis and visualization: "
   ]
  },
  {
   "cell_type": "code",
   "execution_count": null,
   "id": "db3daee7-a516-493d-b401-a50003258b64",
   "metadata": {},
   "outputs": [],
   "source": [
    "library(tidyverse)\n",
    "library(repr)\n",
    "library(tidymodels)\n",
    "options(repr.matrix.max.rows = 6)\n",
    "##source('cleanup.R')"
   ]
  },
  {
   "cell_type": "code",
   "execution_count": null,
   "id": "59cc9a9c-c8d7-4317-bbde-bf95d2aaca53",
   "metadata": {},
   "outputs": [],
   "source": [
    "players <- read_csv(\"data/players.csv\")\n",
    "players\n",
    "\n",
    "sessions <- read_csv(\"data/sessions.csv\")\n"
   ]
  },
  {
   "cell_type": "code",
   "execution_count": null,
   "id": "93416bc5-55ad-4673-be19-70aaca430cd4",
   "metadata": {},
   "outputs": [],
   "source": [
    "players_recode <- players |>\n",
    "  mutate(subscribe = as_factor(subscribe)) |>\n",
    "  mutate(subscribe = fct_recode(subscribe, \"Subscribed\" = \"TRUE\", \"Not subscribed\" = \"FALSE\"))\n",
    "players_recode\n",
    "\n",
    "#Now we have turned subscribe from lgl to fct, making it a factor variable \n",
    "#as well as improving readability allowing us to use it as the variable we are trying to predict "
   ]
  },
  {
   "cell_type": "code",
   "execution_count": null,
   "id": "445698f0-7fb0-44cf-ab91-054ad3d56693",
   "metadata": {},
   "outputs": [],
   "source": [
    "#Summary statistics on the quantitative variables in the player dataframe: \n",
    "\n",
    "players_mean <- players |>\n",
    "select(played_hours, Age) |>\n",
    "map_df(mean, na.rm = TRUE)\n",
    "\n",
    "players_mean"
   ]
  },
  {
   "cell_type": "code",
   "execution_count": null,
   "id": "f999df8b-ba28-4fcd-b30c-935e605dd77a",
   "metadata": {},
   "outputs": [],
   "source": [
    "#Data visualizations to understand the data better \n",
    "options(repr.plot.width=12, repr.plot.height=7)\n",
    "players_plot <- players_recode |> \n",
    "ggplot(aes(x = played_hours, y = Age, color = subscribe)) + \n",
    "geom_point() +\n",
    "labs(x = \"Time spent playing (hours)\", y = \"Age of player (years)\", title = \"Time played and Age (unstandardized)\") + \n",
    "theme(text = element_text(size = 15))\n",
    "players_plot"
   ]
  },
  {
   "cell_type": "markdown",
   "id": "259c6dc9-fba3-47ca-9dec-fb7b1b577218",
   "metadata": {},
   "source": [
    "Based on this first plot, it does seem like we can use thes variables to predict because I do observe a relationship between the variables and we can see that as we increase the time spent playing, it seems to increase our chances of subscribership. The data is unstandardized, but when we perform our actual predictive analysis the relationships will be more clear. It seems like right now the main insight is how time spent playing seems to greatly increase the odds of someone subscribing. The next plot I will create will be to understand the basic distribution of our played_hours variable to see where most players fall:"
   ]
  },
  {
   "cell_type": "code",
   "execution_count": null,
   "id": "661e2234-9d88-4e9f-bbf5-788a3795f1db",
   "metadata": {},
   "outputs": [],
   "source": [
    "\n",
    "players_histogram <- ggplot(players_recode, aes(x = played_hours)) + \n",
    "geom_histogram(binwidth = 0.5) +\n",
    "labs(x = \"Time spent playing (hours)\", y = \"Count\", title = \"Distribution of playing time\") + \n",
    "theme(text = element_text(size = 15))\n",
    "       \n",
    "players_histogram + scale_x_continuous(limits = c(0, 50)) + scale_y_continuous(limits = c(0, 25))"
   ]
  },
  {
   "cell_type": "markdown",
   "id": "50c66577-8d2f-43ae-ba63-1befa5f2db9d",
   "metadata": {},
   "source": [
    "From this visualization (focusing on less extreme values where most of our data is centered around) we are able to tell that a huge proportion of the players have played less than 5 hours, and a massive amount of them have played 0-1 hours, which means that they are likely joining the server and not playing much. This may be useful because perhaps by targeting those groups, by getting the newsletters it would increase the amount of time they play.  "
   ]
  },
  {
   "cell_type": "markdown",
   "id": "f81b6dfb-786c-4ce8-bb6b-8343183a94d3",
   "metadata": {},
   "source": [
    "(4) Methods and Plan: \n",
    "I plan on using a K nearest neighbors classification algorithm to understand the relationship between how the Age and played_hours variable can help predict the subscribe variable. One limitation revealed by the visualizations above is that it seems like a lot of users are close to 0 playing time, which means our data will not be distributed in a very reliable way for predictions close to 0 played_hours. First I will create a recipe using the chosen predictor variables and the target variable. I would then use scale() to ensure my data has been standardized and each predictor variable has the same weight in distance calculations. I would divide the data into a training set and a test set, with a 0.75 to 0.25 split. I will not create a separate validation set but will use cross-validation (5 fold) on the training set to determine the best value for K. Then I will apply the algorithm, making predictions on the test set where I can then evaluate performance. Putting all of these together, I will have a strong foundation in how predictive these variables are, and with the analysis complete inferences can be made about strategy in terms of how to get more subscribers to the newsletter. "
   ]
  },
  {
   "cell_type": "code",
   "execution_count": null,
   "id": "e2a64e5e-56e0-41e2-8e0f-f27ac06d27a2",
   "metadata": {},
   "outputs": [],
   "source": [
    "##recipe\n",
    "##model\n"
   ]
  }
 ],
 "metadata": {
  "kernelspec": {
   "display_name": "R",
   "language": "R",
   "name": "ir"
  },
  "language_info": {
   "codemirror_mode": "r",
   "file_extension": ".r",
   "mimetype": "text/x-r-source",
   "name": "R",
   "pygments_lexer": "r",
   "version": "4.3.3"
  }
 },
 "nbformat": 4,
 "nbformat_minor": 5
}
